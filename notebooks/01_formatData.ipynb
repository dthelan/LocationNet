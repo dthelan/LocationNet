{
 "cells": [
  {
   "cell_type": "code",
   "execution_count": 5,
   "metadata": {
    "tags": []
   },
   "outputs": [],
   "source": [
    "import numpy as np\n",
    "import pickle\n",
    "from copy import deepcopy\n",
    "import h5py\n",
    "import json"
   ]
  },
  {
   "cell_type": "code",
   "execution_count": 2,
   "metadata": {
    "collapsed": false,
    "jupyter": {
     "outputs_hidden": false
    },
    "pycharm": {
     "name": "#%%\n"
    }
   },
   "outputs": [],
   "source": [
    "# Build the dict which maps Geohash index to vector index\n",
    "def build_dic(flights):\n",
    "    flat_list = [i for j in flights for i in j]\n",
    "    char = [i for j in flat_list for i in j]\n",
    "    char_idx = {c: i for i, c in enumerate(sorted(set(char)))}\n",
    "    return char_idx"
   ]
  },
  {
   "cell_type": "code",
   "execution_count": 2,
   "metadata": {
    "collapsed": false,
    "jupyter": {
     "outputs_hidden": false
    },
    "pycharm": {
     "name": "#%%\n"
    }
   },
   "outputs": [],
   "source": [
    "# Break the Geohash seq list into sets of n points\n",
    "def create_input(flights,number_points):\n",
    "    input_sq = []\n",
    "    output_val = []\n",
    "    for i in flights:\n",
    "        N = range(number_points,len(i))\n",
    "        for k in N:\n",
    "            # sq = []\n",
    "            a = [q for p in i[k-number_points:k] for q in p]\n",
    "            b = [q for p in i[k] for q in p]\n",
    "            for m in range(0,6):\n",
    "                q = deepcopy(a)\n",
    "                q.extend(b[0:m])\n",
    "                input_sq.append(q)\n",
    "                output_val.append(b[m])\n",
    "    return input_sq, output_val"
   ]
  },
  {
   "cell_type": "code",
   "execution_count": 2,
   "metadata": {
    "collapsed": false,
    "jupyter": {
     "outputs_hidden": false
    },
    "pycharm": {
     "name": "#%%\n"
    }
   },
   "outputs": [],
   "source": [
    "# Turn Seq of N points into a set of training vectors\n",
    "def create_vectors(char_idx,input_sq,output_val):\n",
    "    X = np.zeros((len(input_sq), 23, len(char_idx)), dtype=bool)\n",
    "    Y = np.zeros((len(output_val),len(char_idx)),dtype=bool)\n",
    "    for i, seq in enumerate(input_sq):\n",
    "        for t, char in enumerate(seq):\n",
    "            X[i, t, char_idx[char]] = 1\n",
    "        Y[i, char_idx[output_val[i]]] = 1\n",
    "\n",
    "    return X,Y"
   ]
  },
  {
   "cell_type": "code",
   "execution_count": 3,
   "metadata": {
    "collapsed": false,
    "jupyter": {
     "outputs_hidden": false
    },
    "pycharm": {
     "name": "#%%\n"
    }
   },
   "outputs": [],
   "source": [
    "# Load GeoHash strings\n",
    "data = pickle.load( open( \"../data/geohash_6.p\", \"rb\" ) )"
   ]
  },
  {
   "cell_type": "code",
   "execution_count": 7,
   "metadata": {
    "collapsed": false,
    "jupyter": {
     "outputs_hidden": false
    },
    "pycharm": {
     "name": "#%%\n"
    }
   },
   "outputs": [],
   "source": [
    "# Create Geohash index\n",
    "char_idx = build_dic(data)"
   ]
  },
  {
   "cell_type": "code",
   "execution_count": 8,
   "metadata": {
    "collapsed": false,
    "jupyter": {
     "outputs_hidden": false
    },
    "pycharm": {
     "name": "#%%\n"
    }
   },
   "outputs": [],
   "source": [
    "# Save Geohash index for later use\n",
    "with open('../data/char_dict.json', 'w') as f:\n",
    "    json.dump(char_idx, f)"
   ]
  },
  {
   "cell_type": "code",
   "execution_count": 16,
   "metadata": {
    "collapsed": false,
    "jupyter": {
     "outputs_hidden": false
    },
    "pycharm": {
     "name": "#%%\n"
    }
   },
   "outputs": [],
   "source": [
    "# Creat the slice the training into sections\n",
    "input_sq, output_val = create_input(data,3)"
   ]
  },
  {
   "cell_type": "code",
   "execution_count": 25,
   "metadata": {
    "collapsed": false,
    "jupyter": {
     "outputs_hidden": false
    },
    "pycharm": {
     "name": "#%%\n"
    }
   },
   "outputs": [
    {
     "name": "stderr",
     "output_type": "stream",
     "text": [
      "/tmp/ipykernel_26811/2263149941.py:25: DeprecationWarning: `np.bool` is a deprecated alias for the builtin `bool`. To silence this warning, use `bool` by itself. Doing this will not modify any behavior and is safe. If you specifically wanted the numpy scalar type, use `np.bool_` here.\n",
      "Deprecated in NumPy 1.20; for more details and guidance: https://numpy.org/devdocs/release/1.20.0-notes.html#deprecations\n",
      "  X = np.zeros((len(input_sq), 23, len(char_idx)), dtype=np.bool)\n",
      "/tmp/ipykernel_26811/2263149941.py:26: DeprecationWarning: `np.bool` is a deprecated alias for the builtin `bool`. To silence this warning, use `bool` by itself. Doing this will not modify any behavior and is safe. If you specifically wanted the numpy scalar type, use `np.bool_` here.\n",
      "Deprecated in NumPy 1.20; for more details and guidance: https://numpy.org/devdocs/release/1.20.0-notes.html#deprecations\n",
      "  Y = np.zeros((len(output_val),len(char_idx)),dtype=np.bool)\n"
     ]
    }
   ],
   "source": [
    "# Create X and Y vectors for training the network\n",
    "X,Y = create_vectors(char_idx,input_sq,output_val)"
   ]
  },
  {
   "cell_type": "code",
   "execution_count": 32,
   "metadata": {
    "collapsed": false,
    "jupyter": {
     "outputs_hidden": false
    },
    "pycharm": {
     "name": "#%%\n"
    }
   },
   "outputs": [],
   "source": [
    "# Save the training data in a hdf5 file\n",
    "with h5py.File(\"../data/training_data.hdf5\", \"w\") as f:\n",
    "    f.create_dataset(\"X\", maxshape=(None, 23, 32), data=X)\n",
    "    f.create_dataset(\"Y\", maxshape=(None, 32), data=Y)"
   ]
  }
 ],
 "metadata": {
  "kernelspec": {
   "display_name": "Python 3 (ipykernel)",
   "language": "python",
   "name": "python3"
  },
  "language_info": {
   "codemirror_mode": {
    "name": "ipython",
    "version": 3
   },
   "file_extension": ".py",
   "mimetype": "text/x-python",
   "name": "python",
   "nbconvert_exporter": "python",
   "pygments_lexer": "ipython3",
   "version": "3.8.13"
  }
 },
 "nbformat": 4,
 "nbformat_minor": 4
}